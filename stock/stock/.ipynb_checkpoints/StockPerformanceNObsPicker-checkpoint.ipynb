{
 "cells": [
  {
   "cell_type": "code",
   "execution_count": 1,
   "id": "d8c46725-71ca-4a69-a8ef-5af1fefe46c0",
   "metadata": {},
   "outputs": [],
   "source": [
    "import sys\n",
    "import copy\n",
    "import json\n",
    "sys.path.append(\"../../\")\n",
    "from datetime import datetime\n",
    "from dateutil.relativedelta import relativedelta\n",
    "from stock.stock.stock_ds import StocksAnalysis, StocksPicker\n",
    "from stock.stock.stock_picker import NObservationPeriodStockPicker,compute_win_ratio_for_stocks, filter_stocks_on_win_ratio"
   ]
  },
  {
   "cell_type": "code",
   "execution_count": 2,
   "id": "f463d5ee-ae0c-40f3-acb9-45c34692bd34",
   "metadata": {},
   "outputs": [],
   "source": [
    "# Get base stocks\n",
    "with open('../../top_stocks.txt') as file:\n",
    "    lines = file.readlines()\n",
    "    base_stocks = [line.strip() for line in lines]\n"
   ]
  },
  {
   "cell_type": "code",
   "execution_count": 3,
   "id": "f7d0770e-1d14-4943-832c-5c4c119510d5",
   "metadata": {},
   "outputs": [],
   "source": [
    "# Read Stock data\n",
    "sa = StocksAnalysis(copy.deepcopy(base_stocks))\n",
    "with open('stock_prices.json') as f:\n",
    "    js = json.load(f)\n",
    "sa.load_stock_detail_json(js)\n"
   ]
  },
  {
   "cell_type": "code",
   "execution_count": 4,
   "id": "569a4a6e-0c3f-4f92-82cd-be2aee9ce573",
   "metadata": {},
   "outputs": [],
   "source": [
    "# Pick stocks\n",
    "def get_top_stocks(t_base_stocks, threshold=0.8, target_date=None, period_in_days=50, obs_len=10, stock_analysis_ins_t=None):\n",
    "    sp = NObservationPeriodStockPicker(t_base_stocks)\n",
    "    sp.set_stock_analysis_instance(sa)\n",
    "    st_res = sp.pick_stocks(threshold=threshold,\n",
    "                                target_date=target_date,\n",
    "                                period_in_days=period_in_days,\n",
    "                                observation_period_length=obs_len,\n",
    "                                stock_analysis_instance = stock_analysis_ins_t)\n",
    "    return st_res"
   ]
  },
  {
   "cell_type": "code",
   "execution_count": 37,
   "id": "5b5e8662-9817-4a37-90ff-d69e21f0fcc7",
   "metadata": {},
   "outputs": [],
   "source": [
    "# Compute gain for period\n",
    "def compute_gain_for_period(stock_analysis_ins_t, stocks_t, index_date, target_date):\n",
    "    g = -1000\n",
    "#    for v in [-1,-2-3,0]:\n",
    "    for v in [-1,1,0]:\n",
    "#    for v in [-1,0]:\n",
    "        t_d = target_date + relativedelta(days=v)\n",
    "        g = max(g, stock_analysis_ins_t.compute_gain_for_period(index_date.strftime(\"%Y-%m-%d\"), t_d.strftime(\"%Y-%m-%d\"), stocks_t))\n",
    "    return g"
   ]
  },
  {
   "cell_type": "code",
   "execution_count": 38,
   "id": "de4552e4-ce92-46be-be45-8d1d8d7d3d2b",
   "metadata": {},
   "outputs": [],
   "source": [
    "# Compute results for year\n",
    "def compute_results_for_year(year, t_base_stocks, threshold, period_in_days, obs_len, sa_t):\n",
    "    result = {}\n",
    "    target_date_str = str(year) + '-01-01'\n",
    "    target_date = datetime.strptime(target_date_str, '%Y-%m-%d')\n",
    "    while target_date.year != year + 1:\n",
    "        res = {}\n",
    "        st_res = get_top_stocks(t_base_stocks, threshold, target_date, period_in_days, obs_len, sa_t)\n",
    "        prefiltered_stocks, top_stocks = st_res[0], st_res[1]\n",
    "        pred_target_date = target_date + relativedelta(days=obs_len)\n",
    "        res['top_stocks_len'] = len(top_stocks)\n",
    "        res['sp_stocks_len'] = len(prefiltered_stocks)\n",
    "        res['base_gain'] = compute_gain_for_period(sa_t, t_base_stocks, target_date, pred_target_date)\n",
    "        res['sp_gain'] = compute_gain_for_period(sa_t, prefiltered_stocks, target_date, pred_target_date)        \n",
    "        res['top_gain'] = compute_gain_for_period(sa_t, top_stocks, target_date, pred_target_date)\n",
    "        result[target_date] = res\n",
    "        target_date = target_date + relativedelta(days=obs_len)\n",
    "    return result"
   ]
  },
  {
   "cell_type": "code",
   "execution_count": 45,
   "id": "f344d8a1-58fc-4c94-a133-1028edee9b14",
   "metadata": {},
   "outputs": [
    {
     "name": "stdout",
     "output_type": "stream",
     "text": [
      "0.34239986901226926\n",
      "0.24332648639445192\n",
      "0.3075372004104745\n",
      "0.32275703127050565\n",
      "0.29891668680596145\n",
      "0.3804634661063296\n",
      "0.32386792830366906\n",
      "0.3874637021519976\n",
      "0.7832990583070473\n",
      "0.4472267614653048\n",
      "0.5226233294908793\n",
      "0.3466632767656071\n",
      "0.32989859845493436\n",
      "-0.02295808809323022\n",
      "0.6491786573763164\n",
      "Total Wins -  22\n"
     ]
    }
   ],
   "source": [
    "def get_average(result):\n",
    "    sp_avg, top_avg, base_gain_avg, sp_gain_avg, top_gain_avg = 0,0,0,0,0\n",
    "    size = float(len(result))\n",
    "    for r in result:\n",
    "        r = result[r]\n",
    "        sp_avg += r['sp_stocks_len']\n",
    "        top_avg += r['top_stocks_len']\n",
    "        base_gain_avg += r['base_gain']\n",
    "        sp_gain_avg += r['sp_gain']\n",
    "        top_gain_avg += r['top_gain']\n",
    "    sp_avg, top_avg, base_gain_avg, sp_gain_avg, top_gain_avg = sp_avg/size, top_avg/size, base_gain_avg/size, sp_gain_avg/size, top_gain_avg/size\n",
    "#    print (sp_avg,' ', top_avg,' ', base_gain_avg,' ', sp_gain_avg,' ', top_gain_avg)\n",
    "    print (top_gain_avg)\n",
    "    if top_gain_avg > sp_gain_avg and top_gain_avg > base_gain_avg: return True\n",
    "    else: return False\n",
    "year = 2013\n",
    "\"\"\"\n",
    "wins = 0\n",
    "while year < 2021:\n",
    "    result = compute_results_for_year(year, base_stocks, 0.8, 100, 10, sa)\n",
    "    print (year)\n",
    "    if get_average(result): wins += 1\n",
    "    year += 1\n",
    "\"\"\"\n",
    "obs = 10\n",
    "while obs <= 150:\n",
    "    result = compute_results_for_year(year, base_stocks, 0.8, obs, 10, sa)\n",
    "#    print (year)\n",
    "    if get_average(result): wins += 1\n",
    "    obs += 10\n",
    "    \n",
    "print ('Total Wins - ', wins)"
   ]
  },
  {
   "cell_type": "code",
   "execution_count": null,
   "id": "31809a38-edd5-4a3a-8b2e-7647b4d21942",
   "metadata": {},
   "outputs": [],
   "source": [
    "2002\n",
    "251.36065573770492   60.09836065573771   -2.817030564946866   0.08771502118797647   -4.420244042231217\n",
    "2003\n",
    "223.8360655737705   54.39344262295082   2.250998971402452   4.101236848156288   3.6839226777315774"
   ]
  },
  {
   "cell_type": "code",
   "execution_count": 52,
   "id": "eedb5f61-0b97-46d5-b6fe-011357d76dba",
   "metadata": {},
   "outputs": [
    {
     "data": {
      "image/png": "[encoded data removed]",
      "text/plain": [
       "<Figure size 432x288 with 1 Axes>"
      ]
     },
     "metadata": {
      "needs_background": "light"
     },
     "output_type": "display_data"
    }
   ],
   "source": [
    "import matplotlib.pyplot as plt \n",
    "res = [0.34239986901226926,0.24332648639445192,0.3075372004104745,0.32275703127050565,0.29891668680596145,0.3804634661063296,0.32386792830366906,0.3874637021519976,0.3832990583070473,0.4472267614653048,0.5226233294908793,0.3466632767656071,0.32989859845493436,-0.02295808809323022]\n",
    "xaxis = [1,2,3,4,5,6,7,8,9,10,11,12,13,14]\n",
    "plt.plot(xaxis, res, 'go-', label='line 1', linewidth=2)\n",
    "plt.xlabel('Number of Observation Periods')\n",
    "plt.ylabel('Gain')\n",
    "plt.savefig('obs_period_comparison.png')"
   ]
  },
  {
   "cell_type": "code",
   "execution_count": null,
   "id": "18a0a937-1e5b-4015-ac45-7af350d6b082",
   "metadata": {},
   "outputs": [],
   "source": []
  }
 ],
 "metadata": {
  "kernelspec": {
   "display_name": "Python 3 (ipykernel)",
   "language": "python",
   "name": "python3"
  },
  "language_info": {
   "codemirror_mode": {
    "name": "ipython",
    "version": 3
   },
   "file_extension": ".py",
   "mimetype": "text/x-python",
   "name": "python",
   "nbconvert_exporter": "python",
   "pygments_lexer": "ipython3",
   "version": "3.8.10"
  }
 },
 "nbformat": 4,
 "nbformat_minor": 5
}
