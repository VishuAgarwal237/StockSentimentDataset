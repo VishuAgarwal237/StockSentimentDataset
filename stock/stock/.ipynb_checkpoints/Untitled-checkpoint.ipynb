{
 "cells": [
  {
   "cell_type": "code",
   "execution_count": 7,
   "id": "d8c46725-71ca-4a69-a8ef-5af1fefe46c0",
   "metadata": {},
   "outputs": [],
   "source": [
    "import sys\n",
    "import copy\n",
    "import json\n",
    "sys.path.append(\"../../\")\n",
    "from datetime import datetime\n",
    "from dateutil.relativedelta import relativedelta\n",
    "from stock.stock.stock_ds import StocksAnalysis, StocksPicker\n",
    "from stock.stock.stock_picker import NObservationPeriodStockPicker,compute_win_ratio_for_stocks, filter_stocks_on_win_ratio"
   ]
  },
  {
   "cell_type": "code",
   "execution_count": 8,
   "id": "f463d5ee-ae0c-40f3-acb9-45c34692bd34",
   "metadata": {},
   "outputs": [],
   "source": [
    "# Get base stocks\n",
    "with open('../../top_stocks.txt') as file:\n",
    "    lines = file.readlines()\n",
    "    base_stocks = [line.strip() for line in lines]\n"
   ]
  },
  {
   "cell_type": "code",
   "execution_count": 9,
   "id": "f7d0770e-1d14-4943-832c-5c4c119510d5",
   "metadata": {},
   "outputs": [],
   "source": [
    "# Read Stock data\n",
    "sa = StocksAnalysis(copy.deepcopy(base_stocks))\n",
    "with open('stock_prices.json') as f:\n",
    "    js = json.load(f)\n",
    "sa.load_stock_detail_json(js)\n"
   ]
  },
  {
   "cell_type": "code",
   "execution_count": null,
   "id": "569a4a6e-0c3f-4f92-82cd-be2aee9ce573",
   "metadata": {},
   "outputs": [],
   "source": []
  }
 ],
 "metadata": {
  "kernelspec": {
   "display_name": "Python 3 (ipykernel)",
   "language": "python",
   "name": "python3"
  },
  "language_info": {
   "codemirror_mode": {
    "name": "ipython",
    "version": 3
   },
   "file_extension": ".py",
   "mimetype": "text/x-python",
   "name": "python",
   "nbconvert_exporter": "python",
   "pygments_lexer": "ipython3",
   "version": "3.8.10"
  }
 },
 "nbformat": 4,
 "nbformat_minor": 5
}
