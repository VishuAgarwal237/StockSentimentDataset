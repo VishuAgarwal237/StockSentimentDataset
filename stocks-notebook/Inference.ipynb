{
 "cells": [
  {
   "cell_type": "code",
   "execution_count": null,
   "id": "1f51bc55",
   "metadata": {},
   "outputs": [],
   "source": [
    "! pip install sklearn mlflow datasets"
   ]
  },
  {
   "cell_type": "code",
   "execution_count": 1,
   "id": "eb3fcc75",
   "metadata": {},
   "outputs": [],
   "source": [
    "from sklearn.metrics import classification_report, confusion_matrix\n",
    "import mlflow\n",
    "import os\n",
    "from transformers.integrations import MLflowCallback\n",
    "from transformers import AutoTokenizer, AutoModelForSequenceClassification, AutoModel\n",
    "from transformers import AutoTokenizer\n",
    "import pandas as pd\n",
    "import torch\n",
    "from datasets import Dataset\n",
    "import transformers\n",
    "from transformers import TrainingArguments\n",
    "from transformers import Trainer\n",
    "import numpy as np\n",
    "from datasets import load_metric\n",
    "import datasets"
   ]
  },
  {
   "cell_type": "code",
   "execution_count": 2,
   "id": "71c75e8a",
   "metadata": {},
   "outputs": [],
   "source": [
    "model_check_point = \"buy_sell_v7\"\n",
    "tokenizer_name = \"bert-base-cased\""
   ]
  },
  {
   "cell_type": "code",
   "execution_count": 3,
   "id": "e30f9179",
   "metadata": {},
   "outputs": [],
   "source": [
    "tokenizer = AutoTokenizer.from_pretrained(tokenizer_name)\n",
    "\n",
    "model = AutoModelForSequenceClassification.from_pretrained(model_check_point)"
   ]
  },
  {
   "cell_type": "code",
   "execution_count": 4,
   "id": "636e59a2",
   "metadata": {},
   "outputs": [],
   "source": [
    "pipeline = transformers.TextClassificationPipeline(model=model, tokenizer=tokenizer)        "
   ]
  },
  {
   "cell_type": "code",
   "execution_count": 5,
   "id": "f8da4a67",
   "metadata": {},
   "outputs": [],
   "source": [
    "test_df = pd.read_csv(\"./test_small_v3.csv\")"
   ]
  },
  {
   "cell_type": "code",
   "execution_count": 6,
   "id": "ae777365",
   "metadata": {},
   "outputs": [],
   "source": [
    "sentences = test_df.sentence.to_list()"
   ]
  },
  {
   "cell_type": "code",
   "execution_count": 7,
   "id": "cdabd6ca",
   "metadata": {},
   "outputs": [],
   "source": [
    "preds = pipeline(sentences)"
   ]
  },
  {
   "cell_type": "code",
   "execution_count": 8,
   "id": "d2a68acf",
   "metadata": {},
   "outputs": [],
   "source": [
    "preds_ = [pred['label'] for pred in preds]"
   ]
  },
  {
   "cell_type": "code",
   "execution_count": 9,
   "id": "02601c1c",
   "metadata": {},
   "outputs": [],
   "source": [
    "report = classification_report(test_df.label.to_list(), preds_)"
   ]
  },
  {
   "cell_type": "code",
   "execution_count": 15,
   "id": "e674842c",
   "metadata": {},
   "outputs": [
    {
     "name": "stdout",
     "output_type": "stream",
     "text": [
      "              precision    recall  f1-score   support\n",
      "\n",
      "           B       0.95      0.84      0.89        45\n",
      "           G       0.95      0.99      0.97       144\n",
      "\n",
      "    accuracy                           0.95       189\n",
      "   macro avg       0.95      0.92      0.93       189\n",
      "weighted avg       0.95      0.95      0.95       189\n",
      "\n"
     ]
    }
   ],
   "source": [
    "print(report)"
   ]
  },
  {
   "cell_type": "code",
   "execution_count": 16,
   "id": "dad3b36b",
   "metadata": {},
   "outputs": [
    {
     "data": {
      "text/plain": [
       "array([[ 38,   7],\n",
       "       [  2, 142]])"
      ]
     },
     "execution_count": 16,
     "metadata": {},
     "output_type": "execute_result"
    }
   ],
   "source": [
    "confusion_matrix(test_df.label.to_list(), preds_)"
   ]
  },
  {
   "cell_type": "code",
   "execution_count": 17,
   "id": "d8f9253c",
   "metadata": {},
   "outputs": [
    {
     "data": {
      "text/plain": [
       "G    144\n",
       "B     45\n",
       "Name: label, dtype: int64"
      ]
     },
     "execution_count": 17,
     "metadata": {},
     "output_type": "execute_result"
    }
   ],
   "source": [
    "test_df.label.value_counts()"
   ]
  },
  {
   "cell_type": "code",
   "execution_count": 12,
   "id": "0949c2d4",
   "metadata": {},
   "outputs": [
    {
     "data": {
      "text/plain": [
       "[{'label': 'B', 'score': 0.9984917640686035}]"
      ]
     },
     "execution_count": 12,
     "metadata": {},
     "output_type": "execute_result"
    }
   ],
   "source": [
    "pipeline(\"Apple incurred losses\")"
   ]
  },
  {
   "cell_type": "code",
   "execution_count": 13,
   "id": "2a4a92a7",
   "metadata": {},
   "outputs": [
    {
     "data": {
      "text/plain": [
       "[{'label': 'G', 'score': 0.9948624968528748}]"
      ]
     },
     "execution_count": 13,
     "metadata": {},
     "output_type": "execute_result"
    }
   ],
   "source": [
    "pipeline(\"Apple had huge profit\")"
   ]
  },
  {
   "cell_type": "code",
   "execution_count": 14,
   "id": "a3b5e0b9",
   "metadata": {},
   "outputs": [
    {
     "data": {
      "text/plain": [
       "[{'label': 'G', 'score': 0.9921414852142334}]"
      ]
     },
     "execution_count": 14,
     "metadata": {},
     "output_type": "execute_result"
    }
   ],
   "source": [
    "pipeline(\"Apple shares jump\")"
   ]
  },
  {
   "cell_type": "code",
   "execution_count": 10,
   "id": "3f964bfd",
   "metadata": {},
   "outputs": [
    {
     "data": {
      "text/plain": [
       "[{'label': 'B', 'score': 0.9933995008468628}]"
      ]
     },
     "execution_count": 10,
     "metadata": {},
     "output_type": "execute_result"
    }
   ],
   "source": [
    "pipeline(\"Apple fell from a tree\")"
   ]
  },
  {
   "cell_type": "code",
   "execution_count": 11,
   "id": "aad56743",
   "metadata": {},
   "outputs": [
    {
     "data": {
      "text/plain": [
       "[{'label': 'G', 'score': 0.9887092709541321}]"
      ]
     },
     "execution_count": 11,
     "metadata": {},
     "output_type": "execute_result"
    }
   ],
   "source": [
    "pipeline(\"Apple floats in the water\")"
   ]
  },
  {
   "cell_type": "code",
   "execution_count": null,
   "id": "c0243e6e",
   "metadata": {},
   "outputs": [],
   "source": []
  }
 ],
 "metadata": {
  "kernelspec": {
   "display_name": "Python 3 (ipykernel)",
   "language": "python",
   "name": "python3"
  },
  "language_info": {
   "codemirror_mode": {
    "name": "ipython",
    "version": 3
   },
   "file_extension": ".py",
   "mimetype": "text/x-python",
   "name": "python",
   "nbconvert_exporter": "python",
   "pygments_lexer": "ipython3",
   "version": "3.8.12"
  }
 },
 "nbformat": 4,
 "nbformat_minor": 5
}
